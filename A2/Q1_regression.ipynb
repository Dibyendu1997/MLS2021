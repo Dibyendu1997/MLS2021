{
 "cells": [
  {
   "cell_type": "markdown",
   "metadata": {},
   "source": [
    "## Dibyendu Das Msc BDA "
   ]
  },
  {
   "cell_type": "code",
   "execution_count": 14,
   "metadata": {},
   "outputs": [],
   "source": [
    "import numpy as np\n",
    "import pandas as pd\n",
    "import matplotlib.pyplot as plt\n",
    "import house_sales_data as hsd"
   ]
  },
  {
   "cell_type": "code",
   "execution_count": 18,
   "metadata": {},
   "outputs": [],
   "source": [
    "## Sacramento house price data; load\n",
    "data = hsd.house_sales_data()\n",
    "price = data[\"price\"]\n",
    "beds = data[\"beds\"]\n",
    "area = data[\"area\"]"
   ]
  },
  {
   "cell_type": "code",
   "execution_count": 16,
   "metadata": {},
   "outputs": [
    {
     "data": {
      "text/plain": [
       "Text(0, 0.5, 'Price (y)')"
      ]
     },
     "execution_count": 16,
     "metadata": {},
     "output_type": "execute_result"
    },
    {
     "data": {
      "image/png": "[encoded data removed]",
      "text/plain": [
       "<Figure size 432x288 with 1 Axes>"
      ]
     },
     "metadata": {
      "needs_background": "light"
     },
     "output_type": "display_data"
    }
   ],
   "source": [
    "df_house_data = pd.DataFrame({\"Area\":area, \"Price\":price,\"beds\":beds}, columns=[\"Area\", \"Price\",\"Beds\"])\n",
    "plt.scatter(df_house_data[\"Area\"], df_house_data[\"Price\"], marker='x')\n",
    "plt.xlabel(\"Area (x)\")\n",
    "plt.ylabel(\"Price (y)\")"
   ]
  },
  {
   "cell_type": "code",
   "execution_count": 12,
   "metadata": {},
   "outputs": [],
   "source": [
    "def gradient_descent_ls(X, y, iters, alpha=1.0):\n",
    "    m, n = X.shape\n",
    "    theta = np.zeros(n)\n",
    "    errs = np.zeros(iters)\n",
    "\n",
    "    for t in range(iters):\n",
    "        grad = np.zeros(n)\n",
    "        for i in range(m):\n",
    "            yhat = X[i] @ theta\n",
    "            errs[t] += 1/m * (yhat - y[i])**2\n",
    "            for j in range(n):\n",
    "                grad[j] += 1/m * 2 * (yhat - y[i])*X[i,j]\n",
    "        theta -= alpha * grad\n",
    "    return theta, errs"
   ]
  },
  {
   "cell_type": "code",
   "execution_count": 26,
   "metadata": {},
   "outputs": [],
   "source": [
    "# Normalize data \n",
    "def normalize_data(X, y, normalize_cols):\n",
    "    \"\"\" Normalize y and specified columns of X in place. \"\"\"\n",
    "    min_X = X[:,normalize_cols].min(axis=0)\n",
    "    max_X = X[:,normalize_cols].max(axis=0)\n",
    "    min_y = y.min()\n",
    "    max_y = y.max()\n",
    "    X[:,normalize_cols] = (X[:,normalize_cols] - min_X) / (max_X - min_X)\n",
    "    y[:] = (y - min_y) / (max_y - min_y)\n",
    "    return  min_X, max_X, min_y, max_y\n",
    "X = np.array([area, beds, np.ones(area.shape[0])]).T\n",
    "y = price\n",
    "ranges = normalize_data(X, y, [True, True, False])"
   ]
  },
  {
   "cell_type": "code",
   "execution_count": null,
   "metadata": {},
   "outputs": [],
   "source": [
    "# Implement an evaluation metric for regression\n",
    "def evaluation_metric(y,y_hat):\n",
    "    pass"
   ]
  },
  {
   "cell_type": "code",
   "execution_count": 29,
   "metadata": {},
   "outputs": [],
   "source": [
    "def h(X, theta):\n",
    "  return X @ theta"
   ]
  },
  {
   "cell_type": "code",
   "execution_count": 30,
   "metadata": {},
   "outputs": [],
   "source": [
    "def J(theta, X, y):\n",
    "    return np.mean(np.square(h(X, theta) - y))"
   ]
  },
  {
   "cell_type": "code",
   "execution_count": 33,
   "metadata": {},
   "outputs": [
    {
     "data": {
      "text/plain": [
       "0.014339235247886856"
      ]
     },
     "execution_count": 33,
     "metadata": {},
     "output_type": "execute_result"
    }
   ],
   "source": [
    "J(theta,X,y)"
   ]
  },
  {
   "cell_type": "code",
   "execution_count": 24,
   "metadata": {},
   "outputs": [],
   "source": [
    "from sklearn.model_selection import train_test_split"
   ]
  },
  {
   "cell_type": "code",
   "execution_count": 27,
   "metadata": {},
   "outputs": [],
   "source": [
    "# Prepare data this way\n",
    "X_train = np.hstack((area[:,np.newaxis], beds[:,np.newaxis], np.ones(area.shape[0])[:,np.newaxis]))\n",
    "y_train = price\n",
    "min_X, max_X, min_y, max_y = normalize_data(X_train, y_train, [True, True, False])\n",
    "X_train, X_test, y_train, y_test = train_test_split(X, y, test_size=0.2, random_state=42)"
   ]
  },
  {
   "cell_type": "code",
   "execution_count": null,
   "metadata": {},
   "outputs": [],
   "source": [
    "# call gradient descent and fine-tune your learning rate"
   ]
  },
  {
   "cell_type": "code",
   "execution_count": 32,
   "metadata": {},
   "outputs": [],
   "source": [
    "theta,cost=gradient_descent_ls(X,y,500,0.1)"
   ]
  },
  {
   "cell_type": "code",
   "execution_count": 35,
   "metadata": {},
   "outputs": [
    {
     "data": {
      "text/plain": [
       "array([0.64617435, 0.07955829, 0.05428574])"
      ]
     },
     "execution_count": 35,
     "metadata": {},
     "output_type": "execute_result"
    }
   ],
   "source": [
    "theta"
   ]
  },
  {
   "cell_type": "code",
   "execution_count": 38,
   "metadata": {},
   "outputs": [],
   "source": [
    "theta1,cost1=gradient_descent_ls(X,y,500,0.01)"
   ]
  },
  {
   "cell_type": "code",
   "execution_count": 39,
   "metadata": {},
   "outputs": [
    {
     "data": {
      "text/plain": [
       "array([0.20222319, 0.14360878, 0.15383693])"
      ]
     },
     "execution_count": 39,
     "metadata": {},
     "output_type": "execute_result"
    }
   ],
   "source": [
    "theta1"
   ]
  },
  {
   "cell_type": "code",
   "execution_count": 59,
   "metadata": {},
   "outputs": [],
   "source": [
    "j1=J(theta1,X,y)"
   ]
  },
  {
   "cell_type": "code",
   "execution_count": null,
   "metadata": {},
   "outputs": [],
   "source": [
    "# plot cost vs iterations \n",
    "# note gradient descent return costs for all iterations"
   ]
  },
  {
   "cell_type": "code",
   "execution_count": 34,
   "metadata": {},
   "outputs": [
    {
     "data": {
      "text/plain": [
       "[<matplotlib.lines.Line2D at 0x7fcd58e8f130>]"
      ]
     },
     "execution_count": 34,
     "metadata": {},
     "output_type": "execute_result"
    },
    {
     "data": {
      "image/png": "[encoded data removed]",
      "text/plain": [
       "<Figure size 432x288 with 1 Axes>"
      ]
     },
     "metadata": {
      "needs_background": "light"
     },
     "output_type": "display_data"
    }
   ],
   "source": [
    "plt.plot(cost)"
   ]
  },
  {
   "cell_type": "code",
   "execution_count": null,
   "metadata": {},
   "outputs": [],
   "source": []
  },
  {
   "cell_type": "code",
   "execution_count": null,
   "metadata": {},
   "outputs": [],
   "source": [
    "# print evaluation metric for test set while \n",
    "# changing max_iteration from 500 to 2000\n",
    "# Note the best value of evaluation metric you get"
   ]
  },
  {
   "cell_type": "code",
   "execution_count": 46,
   "metadata": {},
   "outputs": [],
   "source": [
    "l=[]\n",
    "for i in np.arange(500,2001,100):\n",
    "    theta,cost=gradient_descent_ls(X, y,i, alpha=0.1)\n",
    "    \n",
    "    l.append(J(theta,X,y))\n",
    "    \n",
    "    "
   ]
  },
  {
   "cell_type": "code",
   "execution_count": 47,
   "metadata": {},
   "outputs": [
    {
     "data": {
      "text/plain": [
       "[<matplotlib.lines.Line2D at 0x7fcd57da2160>]"
      ]
     },
     "execution_count": 47,
     "metadata": {},
     "output_type": "execute_result"
    },
    {
     "data": {
      "image/png": "[encoded data removed]",
      "text/plain": [
       "<Figure size 432x288 with 1 Axes>"
      ]
     },
     "metadata": {
      "needs_background": "light"
     },
     "output_type": "display_data"
    }
   ],
   "source": [
    "plt.plot(l)"
   ]
  },
  {
   "cell_type": "code",
   "execution_count": null,
   "metadata": {},
   "outputs": [],
   "source": [
    "# compare your solution with scikit-learn library\n",
    "from sklearn import datasets, linear_model"
   ]
  },
  {
   "cell_type": "code",
   "execution_count": null,
   "metadata": {},
   "outputs": [],
   "source": []
  },
  {
   "cell_type": "code",
   "execution_count": 48,
   "metadata": {},
   "outputs": [
    {
     "data": {
      "text/plain": [
       "PolynomialFeatures(degree=1)"
      ]
     },
     "execution_count": 48,
     "metadata": {},
     "output_type": "execute_result"
    }
   ],
   "source": [
    "from sklearn.preprocessing import PolynomialFeatures\n",
    "poly=PolynomialFeatures(degree=1)\n",
    "x_poly=poly.fit_transform(X_train)\n",
    "poly.fit(X_train,y_train)"
   ]
  },
  {
   "cell_type": "code",
   "execution_count": 49,
   "metadata": {},
   "outputs": [
    {
     "data": {
      "text/plain": [
       "LinearRegression()"
      ]
     },
     "execution_count": 49,
     "metadata": {},
     "output_type": "execute_result"
    }
   ],
   "source": [
    "from sklearn.linear_model import LinearRegression\n",
    "model=LinearRegression()\n",
    "model.fit(x_poly,y_train)"
   ]
  },
  {
   "cell_type": "code",
   "execution_count": 50,
   "metadata": {},
   "outputs": [],
   "source": [
    "y_pred=model.predict(poly.fit_transform(X_test))"
   ]
  },
  {
   "cell_type": "code",
   "execution_count": 51,
   "metadata": {},
   "outputs": [
    {
     "data": {
      "text/plain": [
       "array([0.23707771, 0.17382664, 0.29728797, 0.47628415, 0.19357094,\n",
       "       0.20134001, 0.48485343, 0.11898791, 0.52764078, 0.19046332,\n",
       "       0.27747686, 0.29450665, 0.2479544 , 0.45310281, 0.17026374,\n",
       "       0.19357094, 0.21105134, 0.26047503, 0.24592979, 0.2679784 ,\n",
       "       0.31789775, 0.25261584, 0.52142553, 0.41110479, 0.12598007,\n",
       "       0.38002853, 0.2959952 , 0.34895226, 0.2712616 , 0.317876  ,\n",
       "       0.1065574 , 0.26038491, 0.08946546, 0.47683886, 0.15938705,\n",
       "       0.3799353 , 0.57425518, 0.3644904 , 0.23863153, 0.35672133,\n",
       "       0.03818962, 0.2750296 , 0.50523169, 0.03042056, 0.61310051,\n",
       "       0.28369211, 0.3769209 , 0.23241627, 0.26022953, 0.09257308,\n",
       "       0.41110479, 0.1875033 , 0.43441199, 0.69079117, 0.66593016,\n",
       "       0.38002853, 0.44373487, 0.07703495, 0.14695655, 0.24329297,\n",
       "       0.15767164, 0.15006417, 0.17237227, 0.12209553, 0.42819674,\n",
       "       0.17609054, 0.10811122, 0.176479  , 0.34028976, 0.27903067,\n",
       "       0.0242053 , 0.62863864, 0.27747686, 0.27825376, 0.27903067,\n",
       "       0.05217394, 0.18278126, 0.29767643, 0.23202782, 0.20755526,\n",
       "       0.19279404, 0.2945688 , 0.6830221 , 0.53851748, 0.3769209 ,\n",
       "       0.05683538, 0.22702143, 0.17026374, 0.28097294, 0.459273  ,\n",
       "       0.31476837, 0.10287487, 0.14229511, 0.96457306, 0.26815398,\n",
       "       0.01954386, 0.21687814, 0.14632414, 0.08480402, 0.12831079,\n",
       "       0.25727728, 0.3411832 , 0.29696789, 0.39556666, 0.30254608,\n",
       "       0.10344978, 0.317876  , 0.0941269 , 0.38002853, 0.19201713,\n",
       "       0.15650007, 0.29301499, 0.17842126, 0.50433359, 0.28164884,\n",
       "       0.1065574 , 0.17803281, 0.04673559, 0.24463546, 0.44995012,\n",
       "       0.86171062, 0.11131052, 0.30233787, 0.41077694, 0.19759066,\n",
       "       0.3411832 , 0.17382664, 0.15540152, 0.21105134, 0.17803281,\n",
       "       0.18774414, 0.08987411, 0.14462583, 0.40417012, 0.16870993,\n",
       "       0.21687814, 0.35623343, 0.06974601, 0.24601214, 0.41110479,\n",
       "       0.10966503, 0.12209553, 0.18075198, 0.45771919, 0.15938705,\n",
       "       0.02042332, 0.20885425, 0.20650644, 0.30233787, 0.08635783,\n",
       "       0.16249468, 0.20910907, 0.08868855, 0.15627943, 0.0242053 ])"
      ]
     },
     "execution_count": 51,
     "metadata": {},
     "output_type": "execute_result"
    }
   ],
   "source": [
    "y_test"
   ]
  },
  {
   "cell_type": "code",
   "execution_count": 52,
   "metadata": {},
   "outputs": [
    {
     "data": {
      "text/plain": [
       "array([0.33279794, 0.19847744, 0.46143228, 0.28216527, 0.26391927,\n",
       "       0.13461642, 0.47808176, 0.16222921, 0.56476599, 0.18912636,\n",
       "       0.25253123, 0.13416027, 0.21603922, 0.36291956, 0.2372502 ,\n",
       "       0.24318015, 0.21079349, 0.35216861, 0.19461587, 0.25890162,\n",
       "       0.14784477, 0.40420115, 0.28674249, 0.40006437, 0.23040795,\n",
       "       0.20851274, 0.43701253, 0.24477667, 0.27305798, 0.25411204,\n",
       "       0.19368786, 0.26141044, 0.14693247, 0.32619947, 0.17840683,\n",
       "       0.31820113, 0.25618043, 0.38297445, 0.17110843, 0.24590134,\n",
       "       0.15444324, 0.41034346, 0.25435583, 0.13736903, 0.47899406,\n",
       "       0.29837432, 0.3360067 , 0.33576291, 0.26142615, 0.19187897,\n",
       "       0.20668814, 0.18935443, 0.28423366, 0.35014736, 0.30546035,\n",
       "       0.42240002, 0.43132637, 0.15537125, 0.13966549, 0.26165423,\n",
       "       0.15651162, 0.23840628, 0.26802462, 0.17658223, 0.47262367,\n",
       "       0.1503536 , 0.16268536, 0.18000336, 0.51160879, 0.41446452,\n",
       "       0.14626396, 0.38732359, 0.32072567, 0.24296779, 0.33188564,\n",
       "       0.1904791 , 0.14717626, 0.29791817, 0.25730509, 0.23953095,\n",
       "       0.23176068, 0.4584673 , 0.59052276, 0.48492401, 0.34237709,\n",
       "       0.15903616, 0.22539029, 0.19461587, 0.21010926, 0.52643367,\n",
       "       0.5013297 , 0.22493414, 0.25297167, 0.52550566, 0.25639279,\n",
       "       0.131211  , 0.18342448, 0.15170634, 0.19596861, 0.23496945,\n",
       "       0.24684506, 0.35925465, 0.19733706, 0.2582331 , 0.24342394,\n",
       "       0.18228411, 0.22723061, 0.16996805, 0.31116223, 0.27691955,\n",
       "       0.24135555, 0.20509161, 0.40853457, 0.30954999, 0.40008008,\n",
       "       0.14737291, 0.16745923, 0.16472233, 0.25297167, 0.38274638,\n",
       "       0.68128093, 0.1649504 , 0.33258558, 0.39323783, 0.31249926,\n",
       "       0.26758418, 0.1822684 , 0.22812719, 0.2317764 , 0.16723115,\n",
       "       0.18251218, 0.13349175, 0.21672344, 0.40485395, 0.20417931,\n",
       "       0.22493414, 0.35402463, 0.12298459, 0.42151914, 0.6559646 ,\n",
       "       0.16198543, 0.14373942, 0.20944075, 0.59076655, 0.19846173,\n",
       "       0.13805326, 0.32185034, 0.17840683, 0.21330232, 0.15537125,\n",
       "       0.24682935, 0.32070996, 0.21923227, 0.1257372 , 0.13257945])"
      ]
     },
     "execution_count": 52,
     "metadata": {},
     "output_type": "execute_result"
    }
   ],
   "source": [
    "y_pred"
   ]
  },
  {
   "cell_type": "code",
   "execution_count": 53,
   "metadata": {},
   "outputs": [
    {
     "data": {
      "text/plain": [
       "0.012602503305118876"
      ]
     },
     "execution_count": 53,
     "metadata": {},
     "output_type": "execute_result"
    }
   ],
   "source": [
    "from sklearn.metrics import mean_squared_error as mse\n",
    "mse(y_test,y_pred)"
   ]
  },
  {
   "cell_type": "code",
   "execution_count": null,
   "metadata": {},
   "outputs": [],
   "source": [
    "# Create linear regression object"
   ]
  },
  {
   "cell_type": "code",
   "execution_count": null,
   "metadata": {},
   "outputs": [],
   "source": [
    "# Train the model using the training sets"
   ]
  },
  {
   "cell_type": "code",
   "execution_count": null,
   "metadata": {},
   "outputs": [],
   "source": [
    "# Predict on test set and print evaluation metric\n",
    "# How much does it differ by from "
   ]
  },
  {
   "cell_type": "code",
   "execution_count": 55,
   "metadata": {},
   "outputs": [],
   "source": [
    "theta1=model.coef_"
   ]
  },
  {
   "cell_type": "code",
   "execution_count": 62,
   "metadata": {},
   "outputs": [],
   "source": [
    "j2=J(theta1,X,y)"
   ]
  },
  {
   "cell_type": "code",
   "execution_count": 63,
   "metadata": {},
   "outputs": [
    {
     "data": {
      "text/plain": [
       "0.0"
      ]
     },
     "execution_count": 63,
     "metadata": {},
     "output_type": "execute_result"
    }
   ],
   "source": [
    "j1-j2"
   ]
  }
 ],
 "metadata": {
  "kernelspec": {
   "display_name": "Python 3",
   "language": "python",
   "name": "python3"
  },
  "language_info": {
   "codemirror_mode": {
    "name": "ipython",
    "version": 3
   },
   "file_extension": ".py",
   "mimetype": "text/x-python",
   "name": "python",
   "nbconvert_exporter": "python",
   "pygments_lexer": "ipython3",
   "version": "3.8.5"
  }
 },
 "nbformat": 4,
 "nbformat_minor": 4
}
