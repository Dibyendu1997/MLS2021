{
 "cells": [
  {
   "cell_type": "markdown",
   "metadata": {},
   "source": [
    "## Dibyendu Das Msc BDA "
   ]
  },
  {
   "cell_type": "code",
   "execution_count": 5,
   "metadata": {},
   "outputs": [],
   "source": [
    "import numpy as np\n",
    "import sklearn\n",
    "from matplotlib import pyplot as plt\n",
    "from sklearn.preprocessing import StandardScaler\n",
    "from sklearn.linear_model import LogisticRegression\n",
    "from sklearn.datasets import make_classification\n",
    "from sklearn.model_selection import train_test_split\n",
    "from sklearn.datasets import load_breast_cancer\n",
    "from sklearn import metrics"
   ]
  },
  {
   "cell_type": "code",
   "execution_count": 6,
   "metadata": {},
   "outputs": [],
   "source": [
    "# load load_breast_cancer"
   ]
  },
  {
   "cell_type": "code",
   "execution_count": 7,
   "metadata": {},
   "outputs": [],
   "source": [
    "dat = sklearn.datasets.load_breast_cancer()\n",
    "ix = np.where(dat[\"feature_names\"] == \"mean area\")[0][0]\n",
    "iy = np.where(dat[\"feature_names\"] == \"mean concave points\")[0][0]"
   ]
  },
  {
   "cell_type": "code",
   "execution_count": 8,
   "metadata": {},
   "outputs": [
    {
     "data": {
      "text/plain": [
       "StandardScaler()"
      ]
     },
     "execution_count": 8,
     "metadata": {},
     "output_type": "execute_result"
    }
   ],
   "source": [
    "X0 = np.asarray([dat[\"data\"][:,ix], dat[\"data\"][:,iy], np.ones(dat[\"data\"].shape[0])]).T\n",
    "y0 = (1.*(dat[\"target\"]==np.where(dat[\"target_names\"] == \"malignant\")[0][0]) +\n",
    "     -1.*(dat[\"target\"]==np.where(dat[\"target_names\"] == \"benign\")[0][0]))\n",
    "\n",
    "X,y = X0.copy()[:,:-1], y0.copy() \n",
    "\n",
    "norm = StandardScaler()\n",
    "norm.fit(X)"
   ]
  },
  {
   "cell_type": "code",
   "execution_count": null,
   "metadata": {},
   "outputs": [],
   "source": [
    "# normalize (use StandardScaler if you wish)"
   ]
  },
  {
   "cell_type": "code",
   "execution_count": null,
   "metadata": {},
   "outputs": [],
   "source": [
    "# partition with test size 0.3"
   ]
  },
  {
   "cell_type": "code",
   "execution_count": 9,
   "metadata": {},
   "outputs": [],
   "source": [
    "x_train,x_test,y_train,y_test = train_test_split(X,y,test_size=0.3,random_state=0)"
   ]
  },
  {
   "cell_type": "code",
   "execution_count": 10,
   "metadata": {},
   "outputs": [],
   "source": [
    "# fit logistic regression and draw ROC curve\n",
    "# use predict_log_proba()\n",
    "from sklearn.linear_model import LogisticRegression\n",
    "from sklearn.metrics import roc_curve\n",
    "log_reg = LogisticRegression(random_state=42)\n",
    "log_reg.fit(x_train, y_train)\n",
    "\n",
    "ns_probs =[0 for _ in range(len(y_test))]\n",
    "\n",
    "#predict probabilities\n",
    "lr_probs = log_reg.predict_log_proba(x_test)\n",
    "lr_probs= lr_probs[:,1]\n",
    "# use predict_log_proba()\n",
    "\n",
    "#calculate roc curves\n",
    "ns_fpr, ns_tpr, _ = roc_curve(y_test,ns_probs)\n",
    "lr_fpr, lr_tpr, _ = roc_curve(y_test, lr_probs)"
   ]
  },
  {
   "cell_type": "code",
   "execution_count": 15,
   "metadata": {},
   "outputs": [
    {
     "data": {
      "image/png": "[encoded data removed]",
      "text/plain": [
       "<Figure size 432x288 with 1 Axes>"
      ]
     },
     "metadata": {
      "needs_background": "light"
     },
     "output_type": "display_data"
    }
   ],
   "source": [
    "plt.title(\"ROC Curve\")\n",
    "plt.plot(ns_fpr,ns_tpr,'g-')\n",
    "plt.plot(lr_fpr,lr_tpr)\n",
    "plt.xlabel('False Positive Rate')\n",
    "plt.ylabel('True Positive Rate')\n",
    "plt.show()"
   ]
  },
  {
   "cell_type": "code",
   "execution_count": null,
   "metadata": {},
   "outputs": [],
   "source": [
    "# What happens to the \"score\" when C = 1, 1/10, 150, 100, 1000?"
   ]
  }
 ],
 "metadata": {
  "kernelspec": {
   "display_name": "Python 3",
   "language": "python",
   "name": "python3"
  },
  "language_info": {
   "codemirror_mode": {
    "name": "ipython",
    "version": 3
   },
   "file_extension": ".py",
   "mimetype": "text/x-python",
   "name": "python",
   "nbconvert_exporter": "python",
   "pygments_lexer": "ipython3",
   "version": "3.8.5"
  }
 },
 "nbformat": 4,
 "nbformat_minor": 4
}
